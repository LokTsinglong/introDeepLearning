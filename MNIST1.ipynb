{
 "cells": [
  {
   "cell_type": "code",
   "execution_count": null,
   "id": "e36b08b0",
   "metadata": {},
   "outputs": [
    {
     "name": "stdout",
     "output_type": "stream",
     "text": [
      "(600, 64)\n",
      "(600, 64)\n",
      "(600,)\n",
      "(600,)\n"
     ]
    }
   ],
   "source": [
    "from sklearn.datasets import load_digits\n",
    "digits = load_digits()\n",
    "x_train,x_test=digits.data[:600], digits.data[:600]\n",
    "y_train,y_test=digits.target[:600],digits.target[:600] #显然这里有一个很大的问题，训练集不可以和测试集一样\n",
    "print(x_train.shape)\n",
    "print(x_test.shape)\n",
    "print(y_train.shape)\n",
    "print(y_test.shape)"
   ]
  },
  {
   "cell_type": "code",
   "execution_count": 2,
   "id": "166da9e6",
   "metadata": {},
   "outputs": [],
   "source": [
    "import numpy as np\n",
    "from PIL import Image\n",
    "def img_show(img):\n",
    "    pil_img=Image.fromarray(np.uint8(img))\n",
    "    pil_img.show()"
   ]
  },
  {
   "cell_type": "code",
   "execution_count": 3,
   "id": "e1958485",
   "metadata": {},
   "outputs": [
    {
     "name": "stdout",
     "output_type": "stream",
     "text": [
      "0\n"
     ]
    }
   ],
   "source": [
    "img=x_train[0]\n",
    "label=y_train[0]\n",
    "print(label)"
   ]
  },
  {
   "cell_type": "code",
   "execution_count": 4,
   "id": "344a9373",
   "metadata": {},
   "outputs": [
    {
     "name": "stdout",
     "output_type": "stream",
     "text": [
      "(64,)\n"
     ]
    }
   ],
   "source": [
    "print(img.shape)"
   ]
  },
  {
   "cell_type": "code",
   "execution_count": 5,
   "id": "1cb5f760",
   "metadata": {},
   "outputs": [
    {
     "name": "stdout",
     "output_type": "stream",
     "text": [
      "(8, 8)\n"
     ]
    }
   ],
   "source": [
    "img=img.reshape(8,8)#把图像形状变成原来的尺寸，即8*8\n",
    "print(img.shape)"
   ]
  },
  {
   "cell_type": "code",
   "execution_count": 7,
   "id": "c66c698a",
   "metadata": {},
   "outputs": [],
   "source": [
    "img_show(img)"
   ]
  },
  {
   "cell_type": "code",
   "execution_count": 10,
   "id": "e5bbcaa2",
   "metadata": {},
   "outputs": [],
   "source": [
    "def img_show_2(img):\n",
    "    img=(img/16)*255\n",
    "    img=img.astype(np.uint8)\n",
    "    pil_img=Image.fromarray(img)\n",
    "    pil_img.show()"
   ]
  },
  {
   "cell_type": "code",
   "execution_count": 11,
   "id": "bb1fa6d4",
   "metadata": {},
   "outputs": [],
   "source": [
    "img_show_2(img)"
   ]
  },
  {
   "cell_type": "code",
   "execution_count": null,
   "id": "95df9e5b",
   "metadata": {},
   "outputs": [
    {
     "name": "stdout",
     "output_type": "stream",
     "text": [
      "(600, 64)\n",
      "(1197, 64)\n",
      "(600,)\n",
      "(1197, 64)\n"
     ]
    }
   ],
   "source": [
    "digits = load_digits()\n",
    "x_train, x_test = digits.data[:600],digits.data[600:]\n",
    "y_train,y_test = digits.target[:600],digits.data[600:] #这个应该是digits.target[]\n",
    "# 注意训练集和测试集的数据需要不一样\n",
    "print(x_train.shape)\n",
    "print(x_test.shape)\n",
    "print(y_train.shape)\n",
    "print(y_test.shape)"
   ]
  },
  {
   "cell_type": "code",
   "execution_count": 14,
   "id": "4a98a6b0",
   "metadata": {},
   "outputs": [
    {
     "name": "stdout",
     "output_type": "stream",
     "text": [
      "(1197, 64)\n",
      "(600, 64)\n",
      "(1197,)\n",
      "(600,)\n"
     ]
    }
   ],
   "source": [
    "digits = load_digits()\n",
    "x_train, x_test = digits.data[600:],digits.data[:600]\n",
    "y_train,y_test = digits.target[600:],digits.target[:600]\n",
    "# 注意训练集和测试集的比例最好 7：3， 8：2\n",
    "print(x_train.shape)\n",
    "print(x_test.shape) \n",
    "print(y_train.shape)\n",
    "print(y_test.shape)"
   ]
  },
  {
   "cell_type": "code",
   "execution_count": 15,
   "id": "f97b1ebe",
   "metadata": {},
   "outputs": [
    {
     "name": "stdout",
     "output_type": "stream",
     "text": [
      "[ 0.  0. 10. 15.  2.  0.  0.  0.  0.  7. 16. 16.  6.  0.  0.  0.  0. 12.\n",
      " 13. 12.  9.  0.  0.  0.  0.  8.  9. 13.  7.  0.  0.  0.  0.  0.  0. 16.\n",
      "  5.  0.  0.  0.  0.  0.  6. 15.  1.  0.  0.  0.  0.  0. 16. 14.  4.  5.\n",
      "  8.  3.  0.  0.  8. 16. 16. 16. 16.  9.]\n",
      "2\n"
     ]
    }
   ],
   "source": [
    "print(x_train[0])\n",
    "print(y_train[0])"
   ]
  },
  {
   "cell_type": "markdown",
   "id": "3d4ab0fe",
   "metadata": {},
   "source": [
    "可以发现x的取值范围是[0,16],y的取值范围是[0,9]"
   ]
  },
  {
   "cell_type": "code",
   "execution_count": 16,
   "id": "223ce3cb",
   "metadata": {},
   "outputs": [
    {
     "name": "stdout",
     "output_type": "stream",
     "text": [
      "[0.     0.     0.625  0.9375 0.125  0.     0.     0.     0.     0.4375\n",
      " 1.     1.     0.375  0.     0.     0.     0.     0.75   0.8125 0.75\n",
      " 0.5625 0.     0.     0.     0.     0.5    0.5625 0.8125 0.4375 0.\n",
      " 0.     0.     0.     0.     0.     1.     0.3125 0.     0.     0.\n",
      " 0.     0.     0.375  0.9375 0.0625 0.     0.     0.     0.     0.\n",
      " 1.     0.875  0.25   0.3125 0.5    0.1875 0.     0.     0.5    1.\n",
      " 1.     1.     1.     0.5625]\n"
     ]
    }
   ],
   "source": [
    "#归一化\n",
    "x_train = x_train /16\n",
    "x_test = x_test /16\n",
    "print(x_train[0])"
   ]
  },
  {
   "cell_type": "code",
   "execution_count": 17,
   "id": "8914fd84",
   "metadata": {},
   "outputs": [
    {
     "ename": "TypeError",
     "evalue": "Cannot interpret '10' as a data type",
     "output_type": "error",
     "traceback": [
      "\u001b[31m---------------------------------------------------------------------------\u001b[39m",
      "\u001b[31mTypeError\u001b[39m                                 Traceback (most recent call last)",
      "\u001b[36mCell\u001b[39m\u001b[36m \u001b[39m\u001b[32mIn[17]\u001b[39m\u001b[32m, line 6\u001b[39m\n\u001b[32m      4\u001b[39m     \u001b[38;5;28;01mreturn\u001b[39;00m one_hot\n\u001b[32m      5\u001b[39m     \u001b[38;5;66;03m#one_hot is a 2D array（一个矩阵简单理解）\u001b[39;00m\n\u001b[32m----> \u001b[39m\u001b[32m6\u001b[39m y_train_one_hot=\u001b[43mto_one_hot\u001b[49m\u001b[43m(\u001b[49m\u001b[43my_train\u001b[49m\u001b[43m)\u001b[49m\n\u001b[32m      7\u001b[39m y_test_one_hot=to_one_hot(y_test)\n\u001b[32m      8\u001b[39m \u001b[38;5;28mprint\u001b[39m(y_train_one_hot[\u001b[32m0\u001b[39m])\n",
      "\u001b[36mCell\u001b[39m\u001b[36m \u001b[39m\u001b[32mIn[17]\u001b[39m\u001b[32m, line 2\u001b[39m, in \u001b[36mto_one_hot\u001b[39m\u001b[34m(labels, num_classes)\u001b[39m\n\u001b[32m      1\u001b[39m \u001b[38;5;28;01mdef\u001b[39;00m\u001b[38;5;250m \u001b[39m\u001b[34mto_one_hot\u001b[39m(labels,num_classes=\u001b[32m10\u001b[39m):\n\u001b[32m----> \u001b[39m\u001b[32m2\u001b[39m     one_hot=\u001b[43mnp\u001b[49m\u001b[43m.\u001b[49m\u001b[43mzeros\u001b[49m\u001b[43m(\u001b[49m\u001b[38;5;28;43mlen\u001b[39;49m\u001b[43m(\u001b[49m\u001b[43mlabels\u001b[49m\u001b[43m)\u001b[49m\u001b[43m,\u001b[49m\u001b[43mnum_classes\u001b[49m\u001b[43m)\u001b[49m\n\u001b[32m      3\u001b[39m     one_hot[np.arrange(\u001b[38;5;28mlen\u001b[39m(labels)),labels]=\u001b[32m1\u001b[39m\n\u001b[32m      4\u001b[39m     \u001b[38;5;28;01mreturn\u001b[39;00m one_hot\n",
      "\u001b[31mTypeError\u001b[39m: Cannot interpret '10' as a data type"
     ]
    }
   ],
   "source": [
    "def to_one_hot(labels,num_classes=10):\n",
    "    one_hot=np.zeros(len(labels),num_classes)\n",
    "    one_hot[np.arrange(len(labels)),labels]=1\n",
    "    return one_hot\n",
    "    #one_hot is a 2D array（一个矩阵简单理解）\n",
    "y_train_one_hot=to_one_hot(y_train)\n",
    "y_test_one_hot=to_one_hot(y_test)\n",
    "print(y_train_one_hot[0])"
   ]
  },
  {
   "cell_type": "code",
   "execution_count": 19,
   "id": "167f88de",
   "metadata": {},
   "outputs": [
    {
     "name": "stdout",
     "output_type": "stream",
     "text": [
      "[0. 0. 1. 0. 0. 0. 0. 0. 0. 0.]\n"
     ]
    }
   ],
   "source": [
    "def to_one_hot(labels,num_classes=10):\n",
    "    one_hot=np.zeros((len(labels),num_classes))\n",
    "    one_hot[np.arange(len(labels)),labels]=1\n",
    "    return one_hot\n",
    "    #one_hot is a 2D array（一个矩阵简单理解）\n",
    "y_train_one_hot=to_one_hot(y_train)\n",
    "y_test_one_hot=to_one_hot(y_test)\n",
    "print(y_train_one_hot[0])"
   ]
  },
  {
   "cell_type": "code",
   "execution_count": 1,
   "id": "b10e5aa8",
   "metadata": {},
   "outputs": [],
   "source": [
    "#初始化神经网络参数\n",
    "def init_parameters(input_size,hidden_size,output_size):\n",
    "    W1=np.random.randn(hidden_size,input_size)*0.01\n",
    "    # b1=np.zeros(tuple)\n",
    "    b1=np.zeros((hidden_size,1))\n",
    "    W2=np.random.randn(output_size,hidden_size)*0.01\n",
    "    b2=np.zeros((output_size,1))\n",
    "    return{\"W1\": W1, \"b1\": b1, \"W2\": W2, \"b2\": b2 }\n"
   ]
  },
  {
   "cell_type": "code",
   "execution_count": 2,
   "id": "eeb66f7e",
   "metadata": {},
   "outputs": [],
   "source": [
    "#设定激活函数\n",
    "def sigmoid(z):\n",
    "    return 1/(1+np.exp(-z))\n",
    "#激活函数的导数\n",
    "def sigmoid_derivative(z):\n",
    "    return sigmoid(z)*(1-sigmoid(z))"
   ]
  },
  {
   "cell_type": "code",
   "execution_count": 3,
   "id": "f30d7834",
   "metadata": {},
   "outputs": [],
   "source": [
    "#定义前向传播\n",
    "def forward_propa(X,parameters):\n",
    "    W1,b1,W2,b2=parameters[\"W1\"], parameters[\"b1\"], parameters[\"W2\"], parameters[\"b2\"]\n",
    "    Z1=np.dot(W1,X.T)+b1\n",
    "    A1=sigmoid(Z1)\n",
    "    Z2=np.dot(W2,A1)+b2\n",
    "    A2=sigmoid(Z2)\n",
    "    return {\"Z1\":Z1,\"A1\":A1, \"Z2\":Z2, \"A2\":A2}"
   ]
  },
  {
   "cell_type": "code",
   "execution_count": 4,
   "id": "e37356cb",
   "metadata": {},
   "outputs": [],
   "source": [
    "#定义损失函数\n",
    "def compute_loss(A2,Y):\n",
    "    m=Y.shape[0]\n",
    "    loss=-np.sum(Y*np.log(A2)+(1-Y)*np.log(1-A2))/m\n",
    "    return np.squeeze(loss) # 返回一个标量\n"
   ]
  },
  {
   "cell_type": "code",
   "execution_count": null,
   "id": "5e6fcad0",
   "metadata": {},
   "outputs": [],
   "source": [
    "#反向传播\n",
    "def backward_propa(X,Y,parameters,cache):\n",
    "    m=X.shape[0]"
   ]
  }
 ],
 "metadata": {
  "kernelspec": {
   "display_name": ".venv",
   "language": "python",
   "name": "python3"
  },
  "language_info": {
   "codemirror_mode": {
    "name": "ipython",
    "version": 3
   },
   "file_extension": ".py",
   "mimetype": "text/x-python",
   "name": "python",
   "nbconvert_exporter": "python",
   "pygments_lexer": "ipython3",
   "version": "3.11.9"
  }
 },
 "nbformat": 4,
 "nbformat_minor": 5
}
