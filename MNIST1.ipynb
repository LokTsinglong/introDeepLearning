{
 "cells": [
  {
   "cell_type": "code",
   "execution_count": 4,
   "id": "e36b08b0",
   "metadata": {},
   "outputs": [
    {
     "name": "stdout",
     "output_type": "stream",
     "text": [
      "(600, 64)\n",
      "(600, 64)\n",
      "(600,)\n",
      "(600,)\n"
     ]
    }
   ],
   "source": [
    "from sklearn.datasets import load_digits\n",
    "digits = load_digits()\n",
    "x_train,x_test=digits.data[:600], digits.data[:600]\n",
    "y_train,y_test=digits.target[:600],digits.target[:600] #显然这里有一个很大的问题，训练集不可以和测试集一样\n",
    "print(x_train.shape)\n",
    "print(x_test.shape)\n",
    "print(y_train.shape)\n",
    "print(y_test.shape)"
   ]
  },
  {
   "cell_type": "code",
   "execution_count": 5,
   "id": "166da9e6",
   "metadata": {},
   "outputs": [],
   "source": [
    "import numpy as np\n",
    "from PIL import Image\n",
    "def img_show(img):\n",
    "    pil_img=Image.fromarray(np.uint8(img))\n",
    "    pil_img.show()"
   ]
  },
  {
   "cell_type": "code",
   "execution_count": 6,
   "id": "e1958485",
   "metadata": {},
   "outputs": [
    {
     "name": "stdout",
     "output_type": "stream",
     "text": [
      "0\n"
     ]
    }
   ],
   "source": [
    "img=x_train[0]\n",
    "label=y_train[0]\n",
    "print(label)"
   ]
  },
  {
   "cell_type": "code",
   "execution_count": 7,
   "id": "344a9373",
   "metadata": {},
   "outputs": [
    {
     "name": "stdout",
     "output_type": "stream",
     "text": [
      "(64,)\n"
     ]
    }
   ],
   "source": [
    "print(img.shape)"
   ]
  },
  {
   "cell_type": "code",
   "execution_count": 8,
   "id": "1cb5f760",
   "metadata": {},
   "outputs": [
    {
     "name": "stdout",
     "output_type": "stream",
     "text": [
      "(8, 8)\n"
     ]
    }
   ],
   "source": [
    "img=img.reshape(8,8)#把图像形状变成原来的尺寸，即8*8\n",
    "print(img.shape)"
   ]
  },
  {
   "cell_type": "code",
   "execution_count": 9,
   "id": "c66c698a",
   "metadata": {},
   "outputs": [],
   "source": [
    "img_show(img)"
   ]
  },
  {
   "cell_type": "code",
   "execution_count": 10,
   "id": "e5bbcaa2",
   "metadata": {},
   "outputs": [],
   "source": [
    "def img_show_2(img):\n",
    "    img=(img/16)*255\n",
    "    img=img.astype(np.uint8)\n",
    "    pil_img=Image.fromarray(img)\n",
    "    pil_img.show()"
   ]
  },
  {
   "cell_type": "code",
   "execution_count": 11,
   "id": "bb1fa6d4",
   "metadata": {},
   "outputs": [],
   "source": [
    "img_show_2(img)"
   ]
  },
  {
   "cell_type": "code",
   "execution_count": 12,
   "id": "95df9e5b",
   "metadata": {},
   "outputs": [
    {
     "name": "stdout",
     "output_type": "stream",
     "text": [
      "(600, 64)\n",
      "(1197, 64)\n",
      "(600,)\n",
      "(1197, 64)\n"
     ]
    }
   ],
   "source": [
    "digits = load_digits()\n",
    "x_train, x_test = digits.data[:600],digits.data[600:]\n",
    "y_train,y_test = digits.target[:600],digits.data[600:] #这个应该是digits.target[]\n",
    "# 注意训练集和测试集的数据需要不一样\n",
    "print(x_train.shape)\n",
    "print(x_test.shape)\n",
    "print(y_train.shape)\n",
    "print(y_test.shape)"
   ]
  },
  {
   "cell_type": "code",
   "execution_count": 13,
   "id": "4a98a6b0",
   "metadata": {},
   "outputs": [
    {
     "name": "stdout",
     "output_type": "stream",
     "text": [
      "(1197, 64)\n",
      "(600, 64)\n",
      "(1197,)\n",
      "(600,)\n"
     ]
    }
   ],
   "source": [
    "digits = load_digits()\n",
    "x_train, x_test = digits.data[600:],digits.data[:600]\n",
    "y_train,y_test = digits.target[600:],digits.target[:600]\n",
    "# 注意训练集和测试集的比例最好 7：3， 8：2\n",
    "print(x_train.shape)\n",
    "print(x_test.shape) \n",
    "print(y_train.shape)\n",
    "print(y_test.shape)"
   ]
  },
  {
   "cell_type": "code",
   "execution_count": 14,
   "id": "f97b1ebe",
   "metadata": {},
   "outputs": [
    {
     "name": "stdout",
     "output_type": "stream",
     "text": [
      "[ 0.  0. 10. 15.  2.  0.  0.  0.  0.  7. 16. 16.  6.  0.  0.  0.  0. 12.\n",
      " 13. 12.  9.  0.  0.  0.  0.  8.  9. 13.  7.  0.  0.  0.  0.  0.  0. 16.\n",
      "  5.  0.  0.  0.  0.  0.  6. 15.  1.  0.  0.  0.  0.  0. 16. 14.  4.  5.\n",
      "  8.  3.  0.  0.  8. 16. 16. 16. 16.  9.]\n",
      "2\n"
     ]
    }
   ],
   "source": [
    "print(x_train[0])\n",
    "print(y_train[0])"
   ]
  },
  {
   "cell_type": "markdown",
   "id": "3d4ab0fe",
   "metadata": {},
   "source": [
    "可以发现x的取值范围是[0,16],y的取值范围是[0,9]"
   ]
  },
  {
   "cell_type": "code",
   "execution_count": 15,
   "id": "223ce3cb",
   "metadata": {},
   "outputs": [
    {
     "name": "stdout",
     "output_type": "stream",
     "text": [
      "[0.     0.     0.625  0.9375 0.125  0.     0.     0.     0.     0.4375\n",
      " 1.     1.     0.375  0.     0.     0.     0.     0.75   0.8125 0.75\n",
      " 0.5625 0.     0.     0.     0.     0.5    0.5625 0.8125 0.4375 0.\n",
      " 0.     0.     0.     0.     0.     1.     0.3125 0.     0.     0.\n",
      " 0.     0.     0.375  0.9375 0.0625 0.     0.     0.     0.     0.\n",
      " 1.     0.875  0.25   0.3125 0.5    0.1875 0.     0.     0.5    1.\n",
      " 1.     1.     1.     0.5625]\n"
     ]
    }
   ],
   "source": [
    "#归一化\n",
    "x_train = x_train /16\n",
    "x_test = x_test /16\n",
    "print(x_train[0])"
   ]
  },
  {
   "cell_type": "code",
   "execution_count": 17,
   "id": "8914fd84",
   "metadata": {},
   "outputs": [
    {
     "ename": "TypeError",
     "evalue": "Cannot interpret '10' as a data type",
     "output_type": "error",
     "traceback": [
      "\u001b[31m---------------------------------------------------------------------------\u001b[39m",
      "\u001b[31mTypeError\u001b[39m                                 Traceback (most recent call last)",
      "\u001b[36mCell\u001b[39m\u001b[36m \u001b[39m\u001b[32mIn[17]\u001b[39m\u001b[32m, line 6\u001b[39m\n\u001b[32m      4\u001b[39m     \u001b[38;5;28;01mreturn\u001b[39;00m one_hot\n\u001b[32m      5\u001b[39m     \u001b[38;5;66;03m#one_hot is a 2D array（一个矩阵简单理解）\u001b[39;00m\n\u001b[32m----> \u001b[39m\u001b[32m6\u001b[39m y_train_one_hot=\u001b[43mto_one_hot\u001b[49m\u001b[43m(\u001b[49m\u001b[43my_train\u001b[49m\u001b[43m)\u001b[49m\n\u001b[32m      7\u001b[39m y_test_one_hot=to_one_hot(y_test)\n\u001b[32m      8\u001b[39m \u001b[38;5;28mprint\u001b[39m(y_train_one_hot[\u001b[32m0\u001b[39m])\n",
      "\u001b[36mCell\u001b[39m\u001b[36m \u001b[39m\u001b[32mIn[17]\u001b[39m\u001b[32m, line 2\u001b[39m, in \u001b[36mto_one_hot\u001b[39m\u001b[34m(labels, num_classes)\u001b[39m\n\u001b[32m      1\u001b[39m \u001b[38;5;28;01mdef\u001b[39;00m\u001b[38;5;250m \u001b[39m\u001b[34mto_one_hot\u001b[39m(labels,num_classes=\u001b[32m10\u001b[39m):\n\u001b[32m----> \u001b[39m\u001b[32m2\u001b[39m     one_hot=\u001b[43mnp\u001b[49m\u001b[43m.\u001b[49m\u001b[43mzeros\u001b[49m\u001b[43m(\u001b[49m\u001b[38;5;28;43mlen\u001b[39;49m\u001b[43m(\u001b[49m\u001b[43mlabels\u001b[49m\u001b[43m)\u001b[49m\u001b[43m,\u001b[49m\u001b[43mnum_classes\u001b[49m\u001b[43m)\u001b[49m\n\u001b[32m      3\u001b[39m     one_hot[np.arrange(\u001b[38;5;28mlen\u001b[39m(labels)),labels]=\u001b[32m1\u001b[39m\n\u001b[32m      4\u001b[39m     \u001b[38;5;28;01mreturn\u001b[39;00m one_hot\n",
      "\u001b[31mTypeError\u001b[39m: Cannot interpret '10' as a data type"
     ]
    }
   ],
   "source": [
    "def to_one_hot(labels,num_classes=10):\n",
    "    one_hot=np.zeros(len(labels),num_classes)\n",
    "    one_hot[np.arrange(len(labels)),labels]=1\n",
    "    return one_hot\n",
    "    #one_hot is a 2D array（一个矩阵简单理解）\n",
    "y_train_one_hot=to_one_hot(y_train)\n",
    "y_test_one_hot=to_one_hot(y_test)\n",
    "print(y_train_one_hot[0])"
   ]
  },
  {
   "cell_type": "code",
   "execution_count": 16,
   "id": "167f88de",
   "metadata": {},
   "outputs": [
    {
     "name": "stdout",
     "output_type": "stream",
     "text": [
      "[0. 0. 1. 0. 0. 0. 0. 0. 0. 0.]\n"
     ]
    }
   ],
   "source": [
    "def to_one_hot(labels,num_classes=10):\n",
    "    one_hot=np.zeros((len(labels),num_classes))\n",
    "    one_hot[np.arange(len(labels)),labels]=1\n",
    "    return one_hot\n",
    "    #one_hot is a 2D array（一个矩阵简单理解）\n",
    "y_train_one_hot=to_one_hot(y_train)\n",
    "y_test_one_hot=to_one_hot(y_test)\n",
    "print(y_train_one_hot[0])"
   ]
  },
  {
   "cell_type": "code",
   "execution_count": 18,
   "id": "b10e5aa8",
   "metadata": {},
   "outputs": [],
   "source": [
    "#初始化神经网络参数\n",
    "def init_parameters(input_size,hidden_size,output_size):\n",
    "    W1=np.random.randn(hidden_size,input_size)*0.01\n",
    "    # b1=np.zeros(tuple)\n",
    "    b1=np.zeros((hidden_size,1))\n",
    "    W2=np.random.randn(output_size,hidden_size)*0.01\n",
    "    b2=np.zeros((output_size,1))\n",
    "    return{\"W1\": W1, \"b1\": b1, \"W2\": W2, \"b2\": b2 }\n"
   ]
  },
  {
   "cell_type": "code",
   "execution_count": 19,
   "id": "eeb66f7e",
   "metadata": {},
   "outputs": [],
   "source": [
    "#设定激活函数\n",
    "def sigmoid(z):\n",
    "    return 1/(1+np.exp(-z))\n",
    "#激活函数的导数\n",
    "def sigmoid_derivative(z):\n",
    "    return sigmoid(z)*(1-sigmoid(z))"
   ]
  },
  {
   "cell_type": "code",
   "execution_count": 20,
   "id": "f30d7834",
   "metadata": {},
   "outputs": [],
   "source": [
    "#定义前向传播\n",
    "def forward_propa(X,parameters):\n",
    "    W1,b1,W2,b2=parameters[\"W1\"], parameters[\"b1\"], parameters[\"W2\"], parameters[\"b2\"]\n",
    "    Z1=np.dot(W1,X.T)+b1\n",
    "    A1=sigmoid(Z1)\n",
    "    Z2=np.dot(W2,A1)+b2\n",
    "    A2=sigmoid(Z2)\n",
    "    return {\"Z1\":Z1,\"A1\":A1, \"Z2\":Z2, \"A2\":A2}"
   ]
  },
  {
   "cell_type": "code",
   "execution_count": 21,
   "id": "e37356cb",
   "metadata": {},
   "outputs": [],
   "source": [
    "#定义损失函数\n",
    "def compute_loss(A2,Y):\n",
    "    m=Y.shape[0]\n",
    "    loss=-np.sum(Y*np.log(A2)+(1-Y)*np.log(1-A2))/m\n",
    "    return np.squeeze(loss) # 返回一个标量\n"
   ]
  },
  {
   "cell_type": "code",
   "execution_count": 28,
   "id": "5e6fcad0",
   "metadata": {},
   "outputs": [],
   "source": [
    "#反向传播\n",
    "def backward_propa(X,Y,parameters,cache):\n",
    "    m=X.shape[0]\n",
    "    W1,W2=parameters[\"W1\"], parameters[\"W2\"]    \n",
    "    A1,A2=cache[\"A1\"],cache[\"A2\"]\n",
    "\n",
    "    dZ2=A2-Y.T\n",
    "    dW2=np.dot(dZ2,A1.T)/m\n",
    "    db2=np.sum(dZ2,axis=1,keepdims=True)/m\n",
    "\n",
    "    dZ1=np.dot(W2.T,dZ2)*sigmoid_derivative(cache[\"Z1\"])\n",
    "    dW1=np.dot(dZ1,X)/m\n",
    "    db1=np.sum(dZ1,axis=1,keepdims=True)/ m\n",
    "\n",
    "    return {\"dW1\": dW1, \"db1\": db1, \"dW2\": dW2, \"db2\": db2}"
   ]
  },
  {
   "cell_type": "code",
   "execution_count": 23,
   "id": "98989608",
   "metadata": {},
   "outputs": [],
   "source": [
    "#使用梯度下降更新参数\n",
    "def update_parameters(parameters,grads,learning_rate=0.01):\n",
    "    parameters[\"W1\"]-=learning_rate*grads[\"dW1\"]\n",
    "    parameters[\"b1\"]-=learning_rate*grads[\"db1\"]\n",
    "    parameters[\"W2\"]-=learning_rate*grads[\"dW2\"]\n",
    "    parameters[\"b2\"]-=learning_rate*grads[\"db2\"]\n",
    "    return parameters"
   ]
  },
  {
   "cell_type": "code",
   "execution_count": 24,
   "id": "d5684895",
   "metadata": {},
   "outputs": [],
   "source": [
    "def train_network(X,Y,hidden_size=50,learning_rate=0.01,epochs=1000):\n",
    "    input_size=X.shape[1]\n",
    "    output_size=Y.shape[1]\n",
    "    parameters=init_parameters(input_size,hidden_size,output_size)\n",
    "    for i in range(epochs):\n",
    "        #向前传播\n",
    "        cache=forward_propa(X,parameters)\n",
    "        #计算损失函数\n",
    "        loss=compute_loss(cache[\"A2\"],Y)\n",
    "        #有点像y hat和y的差距\n",
    "        if i % 100 == 0:\n",
    "            print(f'Epoch {i} Loss:{loss:.4f}')\n",
    "        #反向传播\n",
    "        grads = backward_propa(X,Y,parameters,cache)\n",
    "        #更新参数\n",
    "        parameters = update_parameters(parameters,grads,learning_rate)\n",
    "    return parameters"
   ]
  },
  {
   "cell_type": "code",
   "execution_count": 29,
   "id": "f04e7998",
   "metadata": {},
   "outputs": [
    {
     "name": "stdout",
     "output_type": "stream",
     "text": [
      "开始训练神经网络...\n",
      "Epoch 0 Loss:6.9913\n",
      "Epoch 100 Loss:3.2995\n",
      "Epoch 200 Loss:3.2521\n",
      "Epoch 300 Loss:3.2504\n",
      "Epoch 400 Loss:3.2502\n",
      "Epoch 500 Loss:3.2500\n",
      "Epoch 600 Loss:3.2499\n",
      "Epoch 700 Loss:3.2497\n",
      "Epoch 800 Loss:3.2496\n",
      "Epoch 900 Loss:3.2494\n"
     ]
    }
   ],
   "source": [
    "print(\"开始训练神经网络...\")\n",
    "trained_parameters = train_network(x_train,y_train_one_hot,hidden_size=50,learning_rate=0.01,epochs=1000)"
   ]
  },
  {
   "cell_type": "markdown",
   "id": "ef7668d2",
   "metadata": {},
   "source": [
    "根据报错的显示：在计算损失函数的时候，需要将A2和Y的形状统一一下\n",
    "很简单其实只需要转置一下,transpose"
   ]
  },
  {
   "cell_type": "code",
   "execution_count": null,
   "id": "e69bae3b",
   "metadata": {},
   "outputs": [],
   "source": [
    "#定义损失函数\n",
    "#edited\n",
    "def compute_loss(A2,Y):\n",
    "    m=Y.shape[0]\n",
    "    A2=A2.T\n",
    "    # transpose\n",
    "    loss=-np.sum(Y*np.log(A2)+(1-Y)*np.log(1-A2))/m\n",
    "    return np.squeeze(loss) # 返回一个标量\n"
   ]
  },
  {
   "cell_type": "code",
   "execution_count": 30,
   "id": "8d450c43",
   "metadata": {},
   "outputs": [
    {
     "name": "stdout",
     "output_type": "stream",
     "text": [
      "开始训练神经网络...\n",
      "Epoch 0 Loss:6.9692\n",
      "Epoch 100 Loss:3.2991\n",
      "Epoch 200 Loss:3.2520\n",
      "Epoch 300 Loss:3.2503\n",
      "Epoch 400 Loss:3.2501\n",
      "Epoch 500 Loss:3.2499\n",
      "Epoch 600 Loss:3.2498\n",
      "Epoch 700 Loss:3.2496\n",
      "Epoch 800 Loss:3.2494\n",
      "Epoch 900 Loss:3.2493\n",
      "训练完成！\n"
     ]
    }
   ],
   "source": [
    "print(\"开始训练神经网络...\")\n",
    "trained_parameters = train_network(x_train,y_train_one_hot,hidden_size=50,learning_rate=0.01,epochs=1000)\n",
    "print(\"训练完成！\")"
   ]
  },
  {
   "cell_type": "code",
   "execution_count": 37,
   "id": "36b55b14",
   "metadata": {},
   "outputs": [],
   "source": [
    "network={\n",
    "    \"W1\":trained_parameters[\"W1\"],\n",
    "    \"b1\":trained_parameters[\"b1\"],\n",
    "    \"W2\":trained_parameters[\"W2\"],\n",
    "    \"b2\":trained_parameters[\"b2\"]\n",
    "}"
   ]
  },
  {
   "cell_type": "code",
   "execution_count": 38,
   "id": "baa3be5e",
   "metadata": {},
   "outputs": [
    {
     "name": "stdout",
     "output_type": "stream",
     "text": [
      "W1 shape:(50, 64)\n",
      "W2 shape:(10, 50)\n",
      "b1 shape:(50, 1)\n",
      "b2 shape:(10, 1)\n"
     ]
    }
   ],
   "source": [
    "print(f\"W1 shape:{network['W1'].shape}\")\n",
    "print(f\"W2 shape:{network['W2'].shape}\")\n",
    "print(f\"b1 shape:{network['b1'].shape}\")\n",
    "print(f\"b2 shape:{network['b2'].shape}\")"
   ]
  },
  {
   "cell_type": "code",
   "execution_count": 41,
   "id": "8452cd71",
   "metadata": {},
   "outputs": [],
   "source": [
    "def predict(network,x):\n",
    "    W1,W2=network[\"W1\"],network[\"W2\"]\n",
    "    b1,b2=network[\"b1\"],network[\"b2\"]\n",
    "    A1=np.dot(W1,x.T)+b1\n",
    "    Z1=sigmoid(A1)\n",
    "    A2=np.dot(W2,Z1)+b2\n",
    "    Z2=sigmoid(A2)\n",
    "    y=Z2\n",
    "    return y\n"
   ]
  },
  {
   "cell_type": "code",
   "execution_count": 44,
   "id": "655b5929",
   "metadata": {},
   "outputs": [
    {
     "name": "stdout",
     "output_type": "stream",
     "text": [
      "测试集的准确率：0.0000\n"
     ]
    }
   ],
   "source": [
    "#前面已经构建好的测试集,直接在这里使用\n",
    "#x_test,y_test\n",
    "accuracy_cnt = 0\n",
    "for i in range(len(x_test)):\n",
    "    y=predict(network,x_test[i])\n",
    "    p=np.argmax(y)#获取概率最高的元素索引\n",
    "    if p==y_test[i]:\n",
    "        accuracy_cnt +=1\n",
    "print(f\"测试集的准确率：{float(accuracy_cnt)/len(x_test):.4f}\")"
   ]
  },
  {
   "cell_type": "code",
   "execution_count": 45,
   "id": "f1fff3fe",
   "metadata": {},
   "outputs": [
    {
     "name": "stdout",
     "output_type": "stream",
     "text": [
      "[0.10347444 0.09533994 0.09417085 0.09737265 0.09668716 0.09922381\n",
      " 0.09916439 0.09924201 0.09929889 0.09832176 0.09868644 0.09167084\n",
      " 0.09292741 0.10057751 0.09970084 0.09283661 0.09247394 0.09796214\n",
      " 0.09292025 0.09818825 0.0960994  0.09494911 0.09410173 0.1032526\n",
      " 0.09732718 0.09941935 0.09987965 0.09424328 0.09307692 0.09719858\n",
      " 0.09917164 0.09941474 0.09148671 0.10272291 0.09236246 0.09583682\n",
      " 0.09847557 0.10133176 0.09628192 0.09921391 0.09814179 0.09872853\n",
      " 0.09339136 0.09094935 0.10033254 0.09965695 0.10586307 0.1020583\n",
      " 0.10299404 0.10222393]\n"
     ]
    }
   ],
   "source": [
    "print(y[0])"
   ]
  },
  {
   "cell_type": "code",
   "execution_count": 46,
   "id": "3665c398",
   "metadata": {},
   "outputs": [
    {
     "name": "stdout",
     "output_type": "stream",
     "text": [
      "(10, 50)\n"
     ]
    }
   ],
   "source": [
    "print(y.shape)"
   ]
  },
  {
   "cell_type": "code",
   "execution_count": 52,
   "id": "56a14acc",
   "metadata": {},
   "outputs": [
    {
     "name": "stdout",
     "output_type": "stream",
     "text": [
      "(600,)\n"
     ]
    }
   ],
   "source": [
    "print(y_test.shape)"
   ]
  },
  {
   "cell_type": "code",
   "execution_count": 49,
   "id": "e85d5078",
   "metadata": {},
   "outputs": [
    {
     "name": "stdout",
     "output_type": "stream",
     "text": [
      "0\n"
     ]
    }
   ],
   "source": [
    "print(y_test[0])"
   ]
  },
  {
   "cell_type": "code",
   "execution_count": 50,
   "id": "73399d42",
   "metadata": {},
   "outputs": [
    {
     "name": "stdout",
     "output_type": "stream",
     "text": [
      "[0.     0.     0.3125 0.8125 0.5625 0.0625 0.     0.     0.     0.\n",
      " 0.8125 0.9375 0.625  0.9375 0.3125 0.     0.     0.1875 0.9375 0.125\n",
      " 0.     0.6875 0.5    0.     0.     0.25   0.75   0.     0.     0.5\n",
      " 0.5    0.     0.     0.3125 0.5    0.     0.     0.5625 0.5    0.\n",
      " 0.     0.25   0.6875 0.     0.0625 0.75   0.4375 0.     0.     0.125\n",
      " 0.875  0.3125 0.625  0.75   0.     0.     0.     0.     0.375  0.8125\n",
      " 0.625  0.     0.     0.    ]\n"
     ]
    }
   ],
   "source": [
    "print(x_test[0])"
   ]
  },
  {
   "cell_type": "code",
   "execution_count": 51,
   "id": "ddc9d82d",
   "metadata": {},
   "outputs": [
    {
     "name": "stdout",
     "output_type": "stream",
     "text": [
      "(600, 64)\n"
     ]
    }
   ],
   "source": [
    "print(x_test.shape)"
   ]
  },
  {
   "cell_type": "code",
   "execution_count": 53,
   "id": "f7eeaf96",
   "metadata": {},
   "outputs": [
    {
     "name": "stdout",
     "output_type": "stream",
     "text": [
      "[[0.10385643 0.11037858 0.10505453 0.10920657 0.11179337 0.10914641\n",
      "  0.1092183  0.1082355  0.10526294 0.10905934]\n",
      " [0.09244865 0.09872673 0.09362394 0.09762028 0.1000952  0.09751424\n",
      "  0.09762048 0.09665692 0.09384185 0.09741796]\n",
      " [0.09227277 0.09854661 0.0934476  0.09744124 0.09991427 0.09733454\n",
      "  0.09744127 0.09647809 0.09366563 0.09723813]\n",
      " [0.09280579 0.09909244 0.09398201 0.09798381 0.10046257 0.09787912\n",
      "  0.09798436 0.09702003 0.09419968 0.0977831 ]\n",
      " [0.09720906 0.10359631 0.09839554 0.1024615  0.10498572 0.10237394\n",
      "  0.10246638 0.10149349 0.09860996 0.10228125]\n",
      " [0.09547818 0.10182698 0.09666087 0.10070231 0.10320905 0.10060792\n",
      "  0.10070547 0.09973575 0.09687664 0.10051388]\n",
      " [0.09418468 0.10050382 0.09536434 0.09938687 0.10188021 0.09928745\n",
      "  0.09938875 0.09842156 0.09558106 0.09919243]\n",
      " [0.09789593 0.10429804 0.09908382 0.10315926 0.10569028 0.10307445\n",
      "  0.10316483 0.10219076 0.09929767 0.10298231]\n",
      " [0.09465633 0.10098637 0.09583711 0.09986659 0.10236485 0.099769\n",
      "  0.09986894 0.09890081 0.09605349 0.09967434]\n",
      " [0.09500402 0.10134204 0.09618562 0.10022019 0.10272205 0.10012394\n",
      "  0.10022288 0.09925407 0.09640175 0.10002955]\n",
      " [0.09722849 0.10361616 0.09841501 0.10248124 0.10500565 0.10239375\n",
      "  0.10248613 0.10151321 0.09862941 0.10230108]\n",
      " [0.08924119 0.09543949 0.09040751 0.094353   0.0967925  0.09423509\n",
      "  0.09435017 0.093394   0.09062738 0.0941366 ]\n",
      " [0.09458876 0.10091725 0.09576938 0.09979787 0.10229543 0.09970001\n",
      "  0.09980015 0.09883216 0.09598581 0.0996053 ]\n",
      " [0.10169263 0.10817303 0.10288744 0.10701284 0.10958004 0.10694356\n",
      "  0.10702229 0.10604234 0.10309794 0.10685459]\n",
      " [0.09850165 0.1049167  0.09969075 0.10377444 0.10631139 0.10369207\n",
      "  0.10378062 0.10280553 0.0999041  0.10360042]\n",
      " [0.09483877 0.10117301 0.09601998 0.10005214 0.10255229 0.09995525\n",
      "  0.10005466 0.09908618 0.09623623 0.09986073]\n",
      " [0.09045553 0.09668464 0.09162539 0.09559051 0.09804363 0.09547704\n",
      "  0.09558882 0.09462974 0.09184455 0.09537937]\n",
      " [0.09496985 0.10130709 0.09615137 0.10018544 0.10268695 0.10008906\n",
      "  0.10018809 0.09921935 0.09636752 0.09999464]\n",
      " [0.09676909 0.10314669 0.09795464 0.10201445 0.10453427 0.10192513\n",
      "  0.10201888 0.10104678 0.0981694  0.1018321 ]\n",
      " [0.09436249 0.10068575 0.09554257 0.09956773 0.10206293 0.09946899\n",
      "  0.09956978 0.09860224 0.09575916 0.09937411]\n",
      " [0.09202898 0.09829691 0.09320317 0.09719304 0.09966343 0.09708542\n",
      "  0.09719284 0.09623019 0.09342135 0.09698884]\n",
      " [0.096697   0.10307301 0.09788239 0.10194119 0.10446028 0.10185159\n",
      "  0.10194555 0.10097358 0.09809721 0.1017585 ]\n",
      " [0.09929993 0.10573176 0.10049056 0.10458496 0.10712963 0.10450582\n",
      "  0.10459195 0.10361557 0.10070322 0.10441483]\n",
      " [0.10027517 0.10672711 0.10146757 0.10557481 0.10812877 0.10549966\n",
      "  0.1055828  0.1046049  0.10167938 0.10540948]\n",
      " [0.09858438 0.10500118 0.09977364 0.10385845 0.1063962  0.10377641\n",
      "  0.10386471 0.10288949 0.09998692 0.10368483]\n",
      " [0.10391297 0.11043618 0.10511115 0.10926387 0.11185118 0.10920396\n",
      "  0.10927566 0.10829279 0.10531951 0.10911693]\n",
      " [0.09564524 0.10199781 0.09682831 0.10087215 0.1033806  0.10077841\n",
      "  0.10087547 0.09990544 0.09704395 0.1006845 ]\n",
      " [0.09510666 0.10144702 0.0962885  0.10032456 0.10282748 0.10022871\n",
      "  0.10032734 0.09935834 0.09650454 0.10013439]\n",
      " [0.09353242 0.09983631 0.09471048 0.09872327 0.10120976 0.09862135\n",
      "  0.09872452 0.09775867 0.09492765 0.09852586]\n",
      " [0.09730738 0.10369676 0.09849406 0.10256138 0.10508658 0.10247421\n",
      "  0.10256636 0.1015933  0.0987084  0.10238161]\n",
      " [0.09977739 0.10621911 0.10096889 0.10506961 0.10761885 0.10499242\n",
      "  0.10507709 0.10409996 0.10118114 0.10490183]\n",
      " [0.09939947 0.10583337 0.10059028 0.10468601 0.10723163 0.10460727\n",
      "  0.1046931  0.10371656 0.10080286 0.10451636]\n",
      " [0.09707577 0.1034601  0.09826197 0.10232607 0.10484896 0.10223798\n",
      "  0.10233081 0.10135816 0.09847649 0.10214519]\n",
      " [0.10352907 0.11004503 0.1047267  0.10887479 0.11145868 0.10881325\n",
      "  0.10888618 0.10790379 0.10493544 0.10872588]\n",
      " [0.08898442 0.09517612 0.09014998 0.09409126 0.09652783 0.09397241\n",
      "  0.09408819 0.09313265 0.09036999 0.09387376]\n",
      " [0.09451495 0.10084174 0.0956954  0.0997228  0.1022196  0.09962466\n",
      "  0.09972501 0.09875717 0.09591188 0.0995299 ]\n",
      " [0.09942847 0.10586297 0.10061933 0.10471544 0.10726134 0.10463682\n",
      "  0.10472256 0.10374597 0.10083188 0.10454594]\n",
      " [0.10078326 0.1072455  0.10197654 0.10609035 0.1086491  0.10601731\n",
      "  0.10609887 0.10512022 0.10218789 0.10592755]\n",
      " [0.09649098 0.10286244 0.09767593 0.10173182 0.10424885 0.10164141\n",
      "  0.10173598 0.10076438 0.09789091 0.10154816]\n",
      " [0.09768455 0.10408211 0.09887201 0.10294455 0.10547348 0.10285889\n",
      "  0.10294991 0.10197619 0.09908604 0.10276658]\n",
      " [0.09689292 0.10327325 0.09807873 0.10214028 0.10466134 0.10205146\n",
      "  0.10214484 0.10117252 0.0982934  0.10195852]\n",
      " [0.10219181 0.10868203 0.10338742 0.10751908 0.11009088 0.1074519\n",
      "  0.10752906 0.10654842 0.10359746 0.10736336]\n",
      " [0.09800204 0.10440643 0.09919015 0.10326704 0.1057991  0.10318266\n",
      "  0.10327272 0.10229846 0.09940391 0.1030906 ]\n",
      " [0.0924057  0.09868275 0.09358088 0.09757656 0.10005102 0.09747036\n",
      "  0.09757672 0.09661326 0.09379882 0.09737405]\n",
      " [0.10102157 0.10748861 0.10221526 0.10633213 0.10889311 0.10626007\n",
      "  0.10634089 0.10536189 0.10242639 0.10617052]\n",
      " [0.09795273 0.10435606 0.09914073 0.10321695 0.10574853 0.10313237\n",
      "  0.10322258 0.10224841 0.09935454 0.10304027]\n",
      " [0.10652512 0.11309594 0.10772663 0.11190975 0.11451973 0.11186109\n",
      "  0.11192433 0.11093852 0.10793228 0.11177645]\n",
      " [0.10439287 0.11092505 0.10559172 0.10975016 0.11234171 0.10969229\n",
      "  0.10976245 0.10877901 0.10579959 0.1096057 ]\n",
      " [0.09770482 0.10410281 0.09889232 0.10296514 0.10549427 0.10287956\n",
      "  0.10297051 0.10199677 0.09910633 0.10278727]\n",
      " [0.10429881 0.11082924 0.10549752 0.10965485 0.11224557 0.10959658\n",
      "  0.10966704 0.10868371 0.10570549 0.1095099 ]]\n"
     ]
    }
   ],
   "source": [
    "def predict_2(network,x):\n",
    "    W1,W2=network[\"W1\"],network[\"W2\"]\n",
    "    b1,b2=network[\"b1\"],network[\"b2\"]\n",
    "    A1=np.dot(W1,x.T)+b1\n",
    "    Z1=sigmoid(A1)\n",
    "    A2=np.dot(W2,Z1)+b2\n",
    "    Z2=sigmoid(A2)\n",
    "    y=Z2.T\n",
    "    return y\n",
    "#尝试使用单个数据进行试验一下\n",
    "y0=predict_2(network,x_test[0])\n",
    "print(y0)\n"
   ]
  },
  {
   "cell_type": "code",
   "execution_count": 54,
   "id": "61ffe8e5",
   "metadata": {},
   "outputs": [
    {
     "name": "stdout",
     "output_type": "stream",
     "text": [
      "(50, 10)\n"
     ]
    }
   ],
   "source": [
    "print(y0.shape)"
   ]
  },
  {
   "cell_type": "markdown",
   "id": "dd26d18e",
   "metadata": {},
   "source": [
    "突然想到一个好办法去检测一下到底是which step has the error and mistakes\n",
    "take the function apart step by step"
   ]
  },
  {
   "cell_type": "code",
   "execution_count": 55,
   "id": "83f24d97",
   "metadata": {},
   "outputs": [
    {
     "name": "stdout",
     "output_type": "stream",
     "text": [
      "(50, 50)\n"
     ]
    }
   ],
   "source": [
    "def predict_3(network,x):\n",
    "    W1,W2=network[\"W1\"],network[\"W2\"]\n",
    "    b1,b2=network[\"b1\"],network[\"b2\"]\n",
    "    A1=np.dot(W1,x.T)+b1\n",
    "    Z1=sigmoid(A1)\n",
    "    y=Z1\n",
    "    return y\n",
    "#尝试使用单个数据进行试验一下\n",
    "y=predict_3(network,x_test[0])\n",
    "print(y.shape)"
   ]
  },
  {
   "cell_type": "code",
   "execution_count": 56,
   "id": "a2c316b8",
   "metadata": {},
   "outputs": [
    {
     "name": "stdout",
     "output_type": "stream",
     "text": [
      "W1 shape:(50, 64)\n",
      "W2 shape:(10, 50)\n",
      "b1 shape:(50, 1)\n",
      "b2 shape:(10, 1)\n"
     ]
    }
   ],
   "source": [
    "print(f\"W1 shape:{network['W1'].shape}\")\n",
    "print(f\"W2 shape:{network['W2'].shape}\")\n",
    "print(f\"b1 shape:{network['b1'].shape}\")\n",
    "print(f\"b2 shape:{network['b2'].shape}\")"
   ]
  },
  {
   "cell_type": "code",
   "execution_count": 57,
   "id": "00297440",
   "metadata": {},
   "outputs": [
    {
     "name": "stdout",
     "output_type": "stream",
     "text": [
      "(64,)\n",
      "(50, 50)\n"
     ]
    }
   ],
   "source": [
    "print(x_test[0].shape)\n",
    "W1,b1=network[\"W1\"],network[\"b1\"]\n",
    "A1=np.dot(W1,x_test[0].T)+b1\n",
    "print(A1.shape)"
   ]
  },
  {
   "cell_type": "markdown",
   "id": "a696cb01",
   "metadata": {},
   "source": [
    "Solve it! (65,).T -> (64,) 一维数组转置了还是一维数组"
   ]
  },
  {
   "cell_type": "code",
   "execution_count": 60,
   "id": "b0df98a1",
   "metadata": {},
   "outputs": [
    {
     "name": "stdout",
     "output_type": "stream",
     "text": [
      "(64, 1)\n"
     ]
    }
   ],
   "source": [
    "sample=x_test[0].reshape(-1,1)  # Reshape to a column vector\n",
    "print(sample.shape)"
   ]
  },
  {
   "cell_type": "code",
   "execution_count": 61,
   "id": "a3610c03",
   "metadata": {},
   "outputs": [
    {
     "name": "stdout",
     "output_type": "stream",
     "text": [
      "(1, 10)\n",
      "[[0.0973032  0.103127   0.09801006 0.10222929 0.10478566 0.10212371\n",
      "  0.10213708 0.10118934 0.09835362 0.10212567]]\n"
     ]
    }
   ],
   "source": [
    "def predict_4(network,x):\n",
    "    sample=x.reshape(-1,1)\n",
    "    W1,W2=network[\"W1\"],network[\"W2\"]\n",
    "    b1,b2=network[\"b1\"],network[\"b2\"]\n",
    "    A1=np.dot(W1,sample)+b1\n",
    "    Z1=sigmoid(A1)\n",
    "    A2=np.dot(W2,Z1)+b2\n",
    "    Z2=sigmoid(A2)\n",
    "    y=Z2.T\n",
    "    return y\n",
    "#尝试使用单个数据进行试验一下\n",
    "y=predict_4(network,x_test[0])\n",
    "print(y.shape)\n",
    "print(y)"
   ]
  },
  {
   "cell_type": "code",
   "execution_count": 62,
   "id": "3508cc3c",
   "metadata": {},
   "outputs": [
    {
     "name": "stdout",
     "output_type": "stream",
     "text": [
      "0\n"
     ]
    }
   ],
   "source": [
    "print(y_test[0])"
   ]
  },
  {
   "cell_type": "code",
   "execution_count": 63,
   "id": "009730c9",
   "metadata": {},
   "outputs": [
    {
     "name": "stdout",
     "output_type": "stream",
     "text": [
      "测试集的准确率：0.0950\n"
     ]
    }
   ],
   "source": [
    "accuracy_cnt = 0\n",
    "for i in range(len(x_test)):\n",
    "    y=predict_4(network,x_test[i])\n",
    "    p=np.argmax(y)#获取概率最高的元素索引\n",
    "    if p==y_test[i]:\n",
    "        accuracy_cnt +=1\n",
    "print(f\"测试集的准确率：{float(accuracy_cnt)/len(x_test):.4f}\")"
   ]
  },
  {
   "cell_type": "code",
   "execution_count": 64,
   "id": "41dcc0c2",
   "metadata": {},
   "outputs": [],
   "source": [
    "def predict_batch(X,network):\n",
    "    X=X.T\n",
    "    #(样本数，64)->(64，样本数)，现在每一列是一个样本，转置的目的在于方便后续的矩阵运算\n",
    "    W1,W2=network[\"W1\"],network[\"W2\"]\n",
    "    b1,b2=network[\"b1\"],network[\"b2\"]\n",
    "    Z1=np.dot(W1,X)+b1\n",
    "    A1=sigmoid(Z1)\n",
    "    Z2=np.dot(W2,A1)+b2\n",
    "    A2=sigmoid(Z2)\n",
    "\n",
    "    return np.argmax(A2,axis=0) # 返回每一列就是一个样本的预测结果\n"
   ]
  },
  {
   "cell_type": "code",
   "execution_count": 65,
   "id": "dd0c7d13",
   "metadata": {},
   "outputs": [
    {
     "name": "stdout",
     "output_type": "stream",
     "text": [
      "测试集准确率：0.0950\n"
     ]
    }
   ],
   "source": [
    "test_predictions = predict_batch(x_test,network)\n",
    "accuracy = np.mean(test_predictions == y_test)\n",
    "print(f\"测试集准确率：{accuracy:.4f}\")"
   ]
  }
 ],
 "metadata": {
  "kernelspec": {
   "display_name": ".venv",
   "language": "python",
   "name": "python3"
  },
  "language_info": {
   "codemirror_mode": {
    "name": "ipython",
    "version": 3
   },
   "file_extension": ".py",
   "mimetype": "text/x-python",
   "name": "python",
   "nbconvert_exporter": "python",
   "pygments_lexer": "ipython3",
   "version": "3.11.9"
  }
 },
 "nbformat": 4,
 "nbformat_minor": 5
}
