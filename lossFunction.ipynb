{
 "cells": [
  {
   "cell_type": "code",
   "execution_count": 1,
   "id": "d8a256ab",
   "metadata": {},
   "outputs": [],
   "source": [
    "import numpy as np\n",
    "#均方误差函数，mean squared error\n",
    "def mse(y,t):\n",
    "    return 0.5*np.sum((y-t)**2)\n"
   ]
  },
  {
   "cell_type": "code",
   "execution_count": 2,
   "id": "1021e72d",
   "metadata": {},
   "outputs": [],
   "source": [
    "t=[0,0,1,0,0,0,0,0,0,0]\n",
    "t=np.array(t)\n",
    "y=[0.1,0.2,0.6,0.1,0.0,0.0,0.0,0.0,0.0,0.0]\n",
    "y=np.array(y)"
   ]
  },
  {
   "cell_type": "code",
   "execution_count": 4,
   "id": "ac6afffd",
   "metadata": {},
   "outputs": [
    {
     "data": {
      "text/plain": [
       "np.float64(0.11000000000000003)"
      ]
     },
     "execution_count": 4,
     "metadata": {},
     "output_type": "execute_result"
    }
   ],
   "source": [
    "loss=mse(y,t)\n",
    "loss"
   ]
  },
  {
   "cell_type": "code",
   "execution_count": 6,
   "id": "13cb65ee",
   "metadata": {},
   "outputs": [
    {
     "data": {
      "text/plain": [
       "np.float64(0.51)"
      ]
     },
     "execution_count": 6,
     "metadata": {},
     "output_type": "execute_result"
    }
   ],
   "source": [
    "y2=np.array([0.1,0.6,0.2,0.1,0.0,0.0,0.0,0.0,0.0,0.0])\n",
    "loss2=mse(y2,t)\n",
    "loss2"
   ]
  },
  {
   "cell_type": "code",
   "execution_count": 7,
   "id": "e41a4da7",
   "metadata": {},
   "outputs": [],
   "source": [
    "#交叉熵误差，cross entropy error\n",
    "def cross_entropy_error(y,t):\n",
    "    delta= 1e-7 #防止log(0)的情况,返回NaN\n",
    "    return -np.sum(t*np.log(y+delta))"
   ]
  },
  {
   "cell_type": "code",
   "execution_count": 8,
   "id": "e6632019",
   "metadata": {},
   "outputs": [
    {
     "data": {
      "text/plain": [
       "np.float64(0.510825457099338)"
      ]
     },
     "execution_count": 8,
     "metadata": {},
     "output_type": "execute_result"
    }
   ],
   "source": [
    "loss3=cross_entropy_error(y,t)\n",
    "loss3"
   ]
  },
  {
   "cell_type": "code",
   "execution_count": 9,
   "id": "b215d5b7",
   "metadata": {},
   "outputs": [
    {
     "data": {
      "text/plain": [
       "np.float64(1.6094374124342252)"
      ]
     },
     "execution_count": 9,
     "metadata": {},
     "output_type": "execute_result"
    }
   ],
   "source": [
    "loss4=cross_entropy_error(y2,t)\n",
    "loss4"
   ]
  },
  {
   "cell_type": "code",
   "execution_count": 10,
   "id": "07698a2d",
   "metadata": {},
   "outputs": [
    {
     "name": "stdout",
     "output_type": "stream",
     "text": [
      "(600, 64)\n",
      "(1197, 64)\n",
      "(600,)\n",
      "(1197,)\n"
     ]
    }
   ],
   "source": [
    "from sklearn.datasets import load_digits\n",
    "digits = load_digits()\n",
    "x_train, x_test = digits.data[:600],digits.data[600:]\n",
    "y_train,y_test = digits.target[:600],digits.target[600:]\n",
    "print(x_train.shape)\n",
    "print(x_test.shape)\n",
    "print(y_train.shape)\n",
    "print(y_test.shape)"
   ]
  },
  {
   "cell_type": "code",
   "execution_count": 11,
   "id": "a74069b7",
   "metadata": {},
   "outputs": [
    {
     "name": "stdout",
     "output_type": "stream",
     "text": [
      "(10, 64)\n"
     ]
    }
   ],
   "source": [
    "train_size = x_train.shape[0]\n",
    "batch_size=10\n",
    "batch_mask=np.random.choice(train_size,batch_size)\n",
    "x_batch = x_train[batch_mask]\n",
    "y_batch = y_train[batch_mask]\n",
    "print(x_batch.shape)"
   ]
  },
  {
   "cell_type": "code",
   "execution_count": 12,
   "id": "9cbf1298",
   "metadata": {},
   "outputs": [
    {
     "data": {
      "text/plain": [
       "array([ 9663, 48023,  1741,  3784, 44751, 30129, 37370, 23712, 36170,\n",
       "       52251], dtype=int32)"
      ]
     },
     "execution_count": 12,
     "metadata": {},
     "output_type": "execute_result"
    }
   ],
   "source": [
    "np.random.choice(60000,10)"
   ]
  },
  {
   "cell_type": "code",
   "execution_count": 13,
   "id": "50e47bda",
   "metadata": {},
   "outputs": [],
   "source": [
    "def cross_entropy_error(y,t):\n",
    "    if y.ndim == 1:\n",
    "        # 转化为2D\n",
    "        t = t.reshape(1,t.size)\n",
    "        y = y.reshape(1,y.size)\n",
    "    batch_size = y.shape[0]\n",
    "    return -np.sum(t*np.log(y+1e-7))/batch_size\n"
   ]
  },
  {
   "cell_type": "code",
   "execution_count": 14,
   "id": "f8b0bf8a",
   "metadata": {},
   "outputs": [],
   "source": [
    "#如果t不是one-hot编码，而是数字标签\n",
    "def cee(y,t):\n",
    "    if y.ndim == 1:\n",
    "        t=t.reshape(1,t.size)\n",
    "        y=y.reshape(1,y.size)\n",
    "    batch_size = y.shape[0]\n",
    "    return -np.sum(np.log(y[np.arange(batch_size),t]+1e-7))/batch_size"
   ]
  },
  {
   "cell_type": "code",
   "execution_count": 15,
   "id": "72c4fce3",
   "metadata": {},
   "outputs": [],
   "source": [
    "def numerical_diff(f,x):\n",
    "    h=1e-4\n",
    "    return (f(x+h)-f(x-h))/(2*h)\n"
   ]
  },
  {
   "cell_type": "code",
   "execution_count": null,
   "id": "bb4a675f",
   "metadata": {},
   "outputs": [],
   "source": []
  }
 ],
 "metadata": {
  "kernelspec": {
   "display_name": ".venv",
   "language": "python",
   "name": "python3"
  },
  "language_info": {
   "codemirror_mode": {
    "name": "ipython",
    "version": 3
   },
   "file_extension": ".py",
   "mimetype": "text/x-python",
   "name": "python",
   "nbconvert_exporter": "python",
   "pygments_lexer": "ipython3",
   "version": "3.11.9"
  }
 },
 "nbformat": 4,
 "nbformat_minor": 5
}
