{
 "cells": [
  {
   "cell_type": "code",
   "execution_count": 2,
   "id": "b8d355da",
   "metadata": {},
   "outputs": [],
   "source": [
    "import numpy as np"
   ]
  },
  {
   "cell_type": "code",
   "execution_count": 1,
   "id": "2296701d",
   "metadata": {},
   "outputs": [],
   "source": [
    "class SGD:\n",
    "    def __init__(self,lr=0.01):\n",
    "        self.lr=lr\n",
    "    def update(self,params,grads):\n",
    "        for key in params.keys():\n",
    "            params[key] -= self.lr*grads[key]\n"
   ]
  },
  {
   "cell_type": "code",
   "execution_count": 3,
   "id": "525aa012",
   "metadata": {},
   "outputs": [],
   "source": [
    "class Momentum:\n",
    "    def __init__(self,lr=0.01,momentum=0.9):\n",
    "        self.lr=lr\n",
    "        self.momentum=momentum\n",
    "        self.v=None\n",
    "    def update(self,params,grads):\n",
    "        if self.v is None:\n",
    "            self.v = {}\n",
    "            for key, val in params.items():\n",
    "                self.v[key] = np.zeros_like(val)\n",
    "        for key in params.keys():\n",
    "            self.v[key] = self.momentum*self.v[key]-self.lr*grads[key]\n",
    "            params[key]+=self.v[key]"
   ]
  },
  {
   "cell_type": "code",
   "execution_count": null,
   "id": "8cbf9f45",
   "metadata": {},
   "outputs": [],
   "source": [
    "class AdaGrad:\n",
    "    def __init__(self,lr=0.01):\n",
    "        self.lr=lr\n",
    "        self.h = None\n",
    "    def update(self,params,grads):\n",
    "        if self.h is None:\n",
    "            self.h = {}\n",
    "        for key, val in params.items():\n",
    "            self.h[key] = np.zeros_like(val)\n",
    "        for key in params.keys():\n",
    "            self.h[key] += grads[key]*grads[key]\n",
    "            params[key] -= self.lr * grads[key] / (np.sqrt(self.h[key])+1e-7)\n",
    "            #做除数的时候需要注意的点，保证除数不能为0"
   ]
  },
  {
   "cell_type": "code",
   "execution_count": 7,
   "id": "fb4fc967",
   "metadata": {},
   "outputs": [
    {
     "name": "stdout",
     "output_type": "stream",
     "text": [
      "情况1初始权重设定为0，隐藏层输出结果： [[0.5 0.5]\n",
      " [0.5 0.5]]\n",
      "情况1初始权重设定为0，最终输出结果： [[0.5 0.5]\n",
      " [0.5 0.5]]\n"
     ]
    }
   ],
   "source": [
    "#不可以将神经网络的初始权重设定为0的小实验 对应书中176页\n",
    "def sigmoid(x):\n",
    "    return 1 / (1+np.exp(-x))\n",
    "#构造输入\n",
    "#两个样本，每个样本两个维度\n",
    "X = np.array([[1,2],\n",
    "              [3,4]])\n",
    "\n",
    "#情况1：权重全为0\n",
    "W1=np.zeros((2,2))\n",
    "b1=np.zeros((2,))\n",
    "h1=sigmoid(X.dot(W1)+b1)\n",
    "\n",
    "W2=np.zeros((2,2))\n",
    "b2=np.zeros((2,))\n",
    "out2=sigmoid(h1.dot(W2)+b2)\n",
    "\n",
    "print(\"情况1初始权重设定为0，隐藏层输出结果：\",h1)\n",
    "print(\"情况1初始权重设定为0，最终输出结果：\",out2)\n",
    "\n"
   ]
  },
  {
   "cell_type": "markdown",
   "id": "746ecc02",
   "metadata": {},
   "source": [
    "把神经网络所有权重都初始化为 0，在 前向传播 时，所有神经元得到的输入都一样（因为 𝑊=0，所以每个神经元计算出来的结果都是相同的），也就是上面结果的0.5"
   ]
  },
  {
   "cell_type": "markdown",
   "id": "c47fd668",
   "metadata": {},
   "source": [
    "同时，在反向传播时，权重梯度的偏导数矩阵的每一列都是平行的，而每一列的含义是： 损失函数对第j个神经元权重向量的敏感程度，影响了后面的更新"
   ]
  },
  {
   "cell_type": "code",
   "execution_count": 8,
   "id": "36fa363f",
   "metadata": {},
   "outputs": [
    {
     "name": "stdout",
     "output_type": "stream",
     "text": [
      "[[0.15601864 0.15599452]\n",
      " [0.05808361 0.86617615]]\n"
     ]
    }
   ],
   "source": [
    "np.random.seed(42)\n",
    "np.random.randn(2,2)\n",
    "print(np.random.rand(2,2))"
   ]
  },
  {
   "cell_type": "code",
   "execution_count": 3,
   "id": "3f979403",
   "metadata": {},
   "outputs": [
    {
     "data": {
      "image/png": "[encoded data removed]",
      "text/plain": [
       "<Figure size 640x480 with 5 Axes>"
      ]
     },
     "metadata": {},
     "output_type": "display_data"
    }
   ],
   "source": [
    "#weight_activation\n",
    "import numpy as np\n",
    "import matplotlib.pyplot as plt\n",
    "def sigmoid(x):\n",
    "    return 1 / (1+np.exp(-x))\n",
    "input_data = np.random.randn(1000,100)\n",
    "node_num = 100\n",
    "hidden_layer_size = 5\n",
    "activations = {} #激活值保存在这个字典里面\n",
    "\n",
    "x = input_data\n",
    "\n",
    "for i in range(hidden_layer_size):\n",
    "    if i!=0:\n",
    "        x=activations[i-1] #前一层的输出作为当前层的输入\n",
    "    w=np.random.randn(node_num,node_num)*1 #第一种初始化权重的方案\n",
    "    a=np.dot(x,w)\n",
    "    z=sigmoid(a)\n",
    "    activations[i]=z #可以注意这个activations字典结构，一个key对应的是一个二维矩阵\n",
    "#绘制直方图\n",
    "for i,a in activations.items():\n",
    "    plt.subplot(1,len(activations),i+1)\n",
    "    plt.title(str(i+1)+'-layer')\n",
    "    if i!=0:plt.yticks([],[])\n",
    "    plt.hist(a.flatten(),30,range=(0,1))\n",
    "plt.show()\n",
    "    \n"
   ]
  },
  {
   "cell_type": "code",
   "execution_count": 4,
   "id": "3305c2a8",
   "metadata": {},
   "outputs": [
    {
     "data": {
      "image/png": "[encoded data removed]",
      "text/plain": [
       "<Figure size 640x480 with 5 Axes>"
      ]
     },
     "metadata": {},
     "output_type": "display_data"
    }
   ],
   "source": [
    "for i in range(hidden_layer_size):\n",
    "    if i!=0:\n",
    "        x=activations[i-1] #前一层的输出作为当前层的输入\n",
    "    w=np.random.randn(node_num,node_num)*0.01 #第2种初始化权重的方案\n",
    "    a=np.dot(x,w)\n",
    "    z=sigmoid(a)\n",
    "    activations[i]=z #可以注意这个activations字典结构，一个key对应的是一个二维矩阵\n",
    "#绘制直方图\n",
    "for i,a in activations.items():\n",
    "    plt.subplot(1,len(activations),i+1)\n",
    "    plt.title(str(i+1)+'-layer')\n",
    "    if i!=0:plt.yticks([],[])\n",
    "    plt.hist(a.flatten(),30,range=(0,1))\n",
    "plt.show()"
   ]
  }
 ],
 "metadata": {
  "kernelspec": {
   "display_name": ".venv",
   "language": "python",
   "name": "python3"
  },
  "language_info": {
   "codemirror_mode": {
    "name": "ipython",
    "version": 3
   },
   "file_extension": ".py",
   "mimetype": "text/x-python",
   "name": "python",
   "nbconvert_exporter": "python",
   "pygments_lexer": "ipython3",
   "version": "3.11.9"
  }
 },
 "nbformat": 4,
 "nbformat_minor": 5
}
